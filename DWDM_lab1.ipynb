{
  "nbformat": 4,
  "nbformat_minor": 0,
  "metadata": {
    "colab": {
      "name": "DWDM_lab1.ipynb",
      "provenance": [],
      "authorship_tag": "ABX9TyNMbkCLRa1IFc0kq0VTgMji",
      "include_colab_link": true
    },
    "kernelspec": {
      "name": "python3",
      "display_name": "Python 3"
    },
    "language_info": {
      "name": "python"
    }
  },
  "cells": [
    {
      "cell_type": "markdown",
      "metadata": {
        "id": "view-in-github",
        "colab_type": "text"
      },
      "source": [
        "<a href=\"https://colab.research.google.com/github/Sriharshitha842/DWDM_LAB/blob/main/DWDM_lab1.ipynb\" target=\"_parent\"><img src=\"https://colab.research.google.com/assets/colab-badge.svg\" alt=\"Open In Colab\"/></a>"
      ]
    },
    {
      "cell_type": "markdown",
      "metadata": {
        "id": "rbCjJMRNcfD5"
      },
      "source": [
        "# **Name : Sriharshitha Deepala**\n",
        "\n",
        "# **Reg No : 19BCD7246**\n",
        "\n",
        "# **Course Code : CSE4005**\n",
        "\n",
        "# **Lab No : 01**"
      ]
    },
    {
      "cell_type": "markdown",
      "metadata": {
        "id": "6xMlCLwrcbF0"
      },
      "source": [
        "1.\n",
        "Calculate income tax for the given income by adhering to the below rules\n",
        "\n",
        "Taxable        Income\t       Rate (%)\n",
        "\n",
        "First          5,00,000\t       0\n",
        "\n",
        "Second         7,50,000\t      10\n",
        "\n",
        "Third          10,00,000\t    20\n",
        "\n",
        "Remaining                     30\n"
      ]
    },
    {
      "cell_type": "code",
      "metadata": {
        "colab": {
          "base_uri": "https://localhost:8080/",
          "height": 0
        },
        "id": "xzm_X5VFYaPH",
        "outputId": "5db55b8e-7472-4136-dbe3-60084801ce66"
      },
      "source": [
        "n = int(input())\n",
        "tax_payable = 0\n",
        "if(n<=500000):\n",
        "  tax_payable = 0\n",
        "elif(n>500000 and n<=750000):\n",
        "  tax_payable = (n-500000)*10/100\n",
        "elif(n>750000 and n<=1000000):\n",
        "  tax_payable = (n-500000)*10/100\n",
        "  tax_payable= tax_payable+(n-750000)*20/100\n",
        "else:\n",
        "  tax_payable= tax_payable+(n-750000)*20/100\n",
        "  tax_payable+= tax_payable+(n-1000000)*30/100\n",
        "print(tax_payable)\n"
      ],
      "execution_count": 2,
      "outputs": [
        {
          "output_type": "stream",
          "name": "stdout",
          "text": [
            "1100000\n",
            "170000.0\n"
          ]
        }
      ]
    },
    {
      "cell_type": "markdown",
      "metadata": {
        "id": "GNeUG4ROdCU-"
      },
      "source": [
        "2.\n",
        "Write a code to extract each digit from an integer, in the reverse order\n",
        "\n",
        "Expected Output: For example, if the given int is 7536, the output shall be “6 3 5 7“, with a space separating the digits."
      ]
    },
    {
      "cell_type": "code",
      "metadata": {
        "colab": {
          "base_uri": "https://localhost:8080/",
          "height": 0
        },
        "id": "q8m1bIg7dmyz",
        "outputId": "41cc0bd3-a5b1-4bc2-de06-5f7348340c6e"
      },
      "source": [
        "num = int(input())\n",
        "rev = 0\n",
        "while(num>0):\n",
        "  a = num%10\n",
        "  rev = rev*10+a\n",
        "  num=num//10\n",
        "print(rev)"
      ],
      "execution_count": 3,
      "outputs": [
        {
          "output_type": "stream",
          "name": "stdout",
          "text": [
            "345345345\n",
            "543543543\n"
          ]
        }
      ]
    },
    {
      "cell_type": "markdown",
      "metadata": {
        "id": "LPeur9IGdF1W"
      },
      "source": [
        "3.\n",
        "Given a list iterate it and display numbers which are divisible by 5 and if you find number greater than 150 stop the loop iteration\n",
        "list1 = [12, 15, 32, 42, 55, 75, 122, 132, 150, 180, 200]\n",
        "\n",
        "Expected output:\n",
        "15\n",
        "55\n",
        "75\n",
        "150"
      ]
    },
    {
      "cell_type": "code",
      "metadata": {
        "colab": {
          "base_uri": "https://localhost:8080/"
        },
        "id": "BU2aneemfpfJ",
        "outputId": "340f2e43-82b4-4115-f1fb-73d2ff389a37"
      },
      "source": [
        "lst=[]\n",
        "n = int(input())\n",
        "for i in range(0,n):\n",
        "  a = int(input())\n",
        "  lst.append(a)\n",
        "print()\n",
        "for j in range(0,n):\n",
        "  if(lst[j]%5==0 and lst[j]<=150):\n",
        "    print(lst[j])"
      ],
      "execution_count": 15,
      "outputs": [
        {
          "output_type": "stream",
          "name": "stdout",
          "text": [
            "11\n",
            "12\n",
            "15\n",
            "32\n",
            "42\n",
            "55\n",
            "75\n",
            "122\n",
            "132\n",
            "150\n",
            "180\n",
            "200\n",
            "\n",
            "15\n",
            "55\n",
            "75\n",
            "150\n"
          ]
        }
      ]
    },
    {
      "cell_type": "markdown",
      "metadata": {
        "id": "2JSO6urOdtFn"
      },
      "source": [
        "4.\n",
        "Create a function showEmployee() in such a way that it should accept employee name, and it’s salary and display both, and if the salary is missing in function call it should show it as 9000\n",
        "\n",
        "Expected Output:\n",
        "\n",
        "showEmployee(\"Ben\", 9000)\n",
        "showEmployee(\"Ben\")\n",
        "Should Produce:\n",
        "\n",
        "Employee Ben salary is: 9000\n",
        "Employee Ben salary is: 9000"
      ]
    },
    {
      "cell_type": "code",
      "metadata": {
        "colab": {
          "base_uri": "https://localhost:8080/"
        },
        "id": "ntzs5s4jhW6_",
        "outputId": "84e04ac4-8434-4d71-b0b5-ac99feb5f922"
      },
      "source": [
        "def showEmployee(Name, Salary=9000):\n",
        "  print(\"Employee\", Name ,\"salary is : \",Salary)\n",
        "showEmployee(input(),int(input()))\n",
        "showEmployee(input())\n",
        "\n"
      ],
      "execution_count": 16,
      "outputs": [
        {
          "output_type": "stream",
          "name": "stdout",
          "text": [
            "Ben\n",
            "100000\n",
            "Employee Ben salary is :  100000\n",
            "Ben\n",
            "Employee Ben salary is :  9000\n"
          ]
        }
      ]
    },
    {
      "cell_type": "markdown",
      "metadata": {
        "id": "CoDKFcF5d_iK"
      },
      "source": [
        "5.\n",
        "Count all lower case, upper case, digits, and special symbols from a given string\n",
        "Given:\n",
        "\n",
        "str1 = \"P@#yn26at^&i5ve\"\n",
        "\n",
        "Expected Outcome:\n",
        "\n",
        "Total counts of chars, digits,and symbols \n",
        "\n",
        "Chars = 8 \n",
        "Digits = 3 \n",
        "Symbol = 4"
      ]
    },
    {
      "cell_type": "code",
      "metadata": {
        "id": "fPrRbos0jFrm",
        "colab": {
          "base_uri": "https://localhost:8080/",
          "height": 0
        },
        "outputId": "5e82a6f1-5696-481f-b2e7-faa400e52b2d"
      },
      "source": [
        "string = input()\n",
        "char_count = 0\n",
        "digit_count = 0\n",
        "symbol_count = 0\n",
        "for i in string:\n",
        "        if i.isalpha():\n",
        "            char_count += 1\n",
        "        elif i.isdigit():\n",
        "            digit_count += 1\n",
        "        else:\n",
        "            symbol_count += 1\n",
        "print(\"total counts of chars, Digits, and symbols \\n\")\n",
        "print(\"Chars =\", char_count, \"Digits =\", digit_count, \"Symbol =\", symbol_count)"
      ],
      "execution_count": 5,
      "outputs": [
        {
          "output_type": "stream",
          "name": "stdout",
          "text": [
            "P@#yn26at^&i5ve\n",
            "total counts of chars, Digits, and symbols \n",
            "\n",
            "Chars = 8 Digits = 3 Symbol = 4\n"
          ]
        }
      ]
    },
    {
      "cell_type": "markdown",
      "metadata": {
        "id": "9tDhUss4eCyW"
      },
      "source": [
        "6.\n",
        "Given a string, return the sum and average of the digits that appear in the string, ignoring all other characters\n",
        "Given:\n",
        "\n",
        "str1 = \"English = 78 Science = 83 Math = 68 History = 65\"\n",
        "\n",
        "Expected Outcome:\n",
        "\n",
        "sum is 294\n",
        "average is 73.5"
      ]
    },
    {
      "cell_type": "code",
      "metadata": {
        "colab": {
          "base_uri": "https://localhost:8080/",
          "height": 0
        },
        "id": "XX26XH53j_Gc",
        "outputId": "7f246dfe-f564-406f-fe32-5abf4e25013b"
      },
      "source": [
        "str1 = input()\n",
        "str2 = str1.split(' ')\n",
        "Sum = 0\n",
        "count = 0\n",
        "temp=\"0\"\n",
        "for i in str2:\n",
        "  if i.isdigit():\n",
        "    Sum = Sum + int(i)\n",
        "    count+=1\n",
        "print(\"sum is \",Sum)\n",
        "print(\"average is \",Sum/count)\n"
      ],
      "execution_count": 10,
      "outputs": [
        {
          "output_type": "stream",
          "name": "stdout",
          "text": [
            "English = 78 Science = 83 Math = 68 History = 65\n",
            "sum is  294\n",
            "average is  73.5\n"
          ]
        }
      ]
    },
    {
      "cell_type": "markdown",
      "metadata": {
        "id": "S0575XVBeHFr"
      },
      "source": [
        "7.\n",
        "Given a two list. Create a third list by picking an odd-index element from the first list and even index elements from second.\n",
        "\n",
        "For Example:\n",
        "\n",
        "listOne = [3, 6, 9, 12, 15, 18, 21]\n",
        "listTwo = [4, 8, 12, 16, 20, 24, 28]\n",
        "\n",
        "Expected Output:\n",
        "\n",
        "Element at odd-index positions from list one\n",
        "[6, 12, 18]\n",
        "\n",
        "Element at even-index positions from list two\n",
        "[4, 12, 20, 28]\n",
        "\n",
        "Printing Final third list\n",
        "[6, 12, 18, 4, 12, 20, 28]"
      ]
    },
    {
      "cell_type": "code",
      "metadata": {
        "colab": {
          "base_uri": "https://localhost:8080/",
          "height": 0
        },
        "id": "LFcLQC9MoXAg",
        "outputId": "ef19fa57-6949-4f41-a375-7bcb406a5161"
      },
      "source": [
        "lst1=[3, 6, 9, 12, 15, 18, 21]\n",
        "lst2= [4, 8, 12, 16, 20, 24, 28]\n",
        "print(\"Element at odd-index positions from list one \\n\",lst1[1::2])\n",
        "print(\"Element at even-index positions from list two\\n\",lst2[0::2])\n",
        "lst3 = lst1[1::2]+lst2[0::2]\n",
        "print(\"Printing Final third list\\n\",lst3)\n",
        "\n",
        "\n"
      ],
      "execution_count": 11,
      "outputs": [
        {
          "output_type": "stream",
          "name": "stdout",
          "text": [
            "Element at odd-index positions from list one \n",
            " [6, 12, 18]\n",
            "Element at even-index positions from list two\n",
            " [4, 12, 20, 28]\n",
            "Printing Final third list\n",
            " [6, 12, 18, 4, 12, 20, 28]\n"
          ]
        }
      ]
    },
    {
      "cell_type": "markdown",
      "metadata": {
        "id": "LwOr_ku-eK19"
      },
      "source": [
        "8.\n",
        "Given a two list of equal size create a set such that it shows the element from both lists in the pair\n",
        "Expected Output:\n",
        "\n",
        "First List  [2, 3, 4, 5, 6, 7, 8]\n",
        "\n",
        "Second List  [4, 9, 16, 25, 36, 49, 64]\n",
        "\n",
        "Result is  {(6, 36), (8, 64), (4, 16), (5, 25), (3, 9), (7, 49), (2, 4)}\n"
      ]
    },
    {
      "cell_type": "code",
      "metadata": {
        "colab": {
          "base_uri": "https://localhost:8080/"
        },
        "id": "qe8BoQvReNmT",
        "outputId": "b8c071f0-13b1-49ff-a3f2-25dce9864a5f"
      },
      "source": [
        "lst1 = [2, 3, 4, 5, 6, 7, 8]\n",
        "print(\"First List \", lst1)\n",
        "lst2 = [4, 9, 16, 25, 36, 49, 64]\n",
        "print(\"Second List \", lst2)\n",
        "sol = zip(lst1, lst2)\n",
        "solution = set(sol)\n",
        "print(solution)"
      ],
      "execution_count": 18,
      "outputs": [
        {
          "output_type": "stream",
          "name": "stdout",
          "text": [
            "First List  [2, 3, 4, 5, 6, 7, 8]\n",
            "Second List  [4, 9, 16, 25, 36, 49, 64]\n",
            "{(6, 36), (8, 64), (4, 16), (5, 25), (3, 9), (7, 49), (2, 4)}\n"
          ]
        }
      ]
    },
    {
      "cell_type": "markdown",
      "metadata": {
        "id": "uwgXR2d8e4N-"
      },
      "source": [
        "9.\n",
        "Given a dictionary get all values from the dictionary and add it in a list but don’t add duplicates.\n",
        "\n",
        "speed ={'jan':47, 'feb':52, 'march':47, 'April':44, 'May':52, 'June':53, 'july':54, 'Aug':44, 'Sept':54}\n",
        "\n",
        "Expected Outcome: [47, 52, 44, 53, 54]"
      ]
    },
    {
      "cell_type": "code",
      "metadata": {
        "colab": {
          "base_uri": "https://localhost:8080/"
        },
        "id": "q-L3e5NGe7x-",
        "outputId": "1d76cf45-c94d-4aa6-a726-a33170bfbd5d"
      },
      "source": [
        "speed = {'jan': 47, 'feb': 52, 'march': 47, 'April': 44, 'May': 52, 'June': 53,\n",
        "         'july': 54, 'Aug': 44, 'Sept': 54}\n",
        "speed_list = list()\n",
        "for i in speed.values():\n",
        "    if i not in speed_list:\n",
        "        speed_list.append(i)\n",
        "print(speed_list)"
      ],
      "execution_count": 20,
      "outputs": [
        {
          "output_type": "stream",
          "name": "stdout",
          "text": [
            "[47, 52, 44, 53, 54]\n"
          ]
        }
      ]
    },
    {
      "cell_type": "markdown",
      "metadata": {
        "id": "18ZYHle-gFKq"
      },
      "source": [
        "10.\n",
        "Remove duplicate from a list and create a tuple and find the minimum and maximum number.\n",
        "For Example:\n",
        "\n",
        "sampleList = [87, 45, 41, 65, 94, 41, 99, 94]\n",
        "\n",
        "Expected Outcome:\n",
        "\n",
        "unique items [87, 45, 41, 65, 99]\n",
        "\n",
        "tuple (87, 45, 41, 65, 99)\n",
        "\n",
        "min: 41\n",
        "\n",
        "max: 99"
      ]
    },
    {
      "cell_type": "code",
      "metadata": {
        "colab": {
          "base_uri": "https://localhost:8080/"
        },
        "id": "HccawVxggKbI",
        "outputId": "09d70962-2a3a-4f5a-fcb6-271af417a17c"
      },
      "source": [
        "sampleList = [87, 45, 41, 65, 94, 41, 99, 94]\n",
        "temp = []\n",
        "for x in sampleList:\n",
        "  if x not in temp:\n",
        "    temp.append(x)\n",
        "sampleList = temp\n",
        "print(f'unique items : {temp}')\n",
        "t = tuple(sampleList)\n",
        "print(\"tuple \", t)\n",
        "print(\"Minimum number is: \", min(t))\n",
        "print(\"Maximum number is: \", max(t))\n"
      ],
      "execution_count": 30,
      "outputs": [
        {
          "output_type": "stream",
          "name": "stdout",
          "text": [
            "unique items : [87, 45, 41, 65, 94, 99]\n",
            "tuple  (87, 45, 41, 65, 94, 99)\n",
            "Minimum number is:  41\n",
            "Maximum number is:  99\n"
          ]
        }
      ]
    }
  ]
}